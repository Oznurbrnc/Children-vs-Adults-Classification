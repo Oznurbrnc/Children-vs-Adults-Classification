{
  "nbformat": 4,
  "nbformat_minor": 0,
  "metadata": {
    "colab": {
      "provenance": []
    },
    "kernelspec": {
      "name": "python3",
      "display_name": "Python 3"
    },
    "language_info": {
      "name": "python"
    }
  },
  "cells": [
    {
      "cell_type": "code",
      "execution_count": 14,
      "metadata": {
        "id": "UpzlWtxlJi2s"
      },
      "outputs": [],
      "source": [
        "import pandas as pd\n",
        "import numpy as np\n",
        "from numpy import asarray\n",
        "import matplotlib.pyplot as plt"
      ]
    },
    {
      "cell_type": "code",
      "source": [
        "pip install tensorflow"
      ],
      "metadata": {
        "id": "3ddjs-wxJmcE"
      },
      "execution_count": null,
      "outputs": []
    },
    {
      "cell_type": "code",
      "source": [
        "import tensorflow as tf"
      ],
      "metadata": {
        "id": "GNtyT0C7SftA"
      },
      "execution_count": 30,
      "outputs": []
    },
    {
      "cell_type": "code",
      "source": [
        "from tensorflow.keras.models import Sequential\n",
        "from tensorflow.keras.layers import Dense"
      ],
      "metadata": {
        "id": "HTX9A6_OJp9f"
      },
      "execution_count": 3,
      "outputs": []
    },
    {
      "cell_type": "code",
      "source": [
        "from PIL import Image\n",
        "import glob\n",
        "x = []\n",
        "y = []\n",
        "for filename in glob.glob('/content/drive/MyDrive/Children vs Adults Classification/trainn/adults/*.jpg'):\n",
        "    im= np.array(Image.open(filename).resize((64,64)))\n",
        "    x.append(im)\n",
        "    y.append(1)\n",
        "\n",
        "for filename in glob.glob('/content/drive/MyDrive/Children vs Adults Classification/trainn/children/*.jpg'):\n",
        "    im= np.array(Image.open(filename).resize((64,64)))\n",
        "    x.append(im)\n",
        "    y.append(0)"
      ],
      "metadata": {
        "id": "LMZoSsruJsbr"
      },
      "execution_count": 20,
      "outputs": []
    },
    {
      "cell_type": "code",
      "source": [
        "len(x),len(y)"
      ],
      "metadata": {
        "colab": {
          "base_uri": "https://localhost:8080/"
        },
        "id": "JYBEw0OUPdik",
        "outputId": "d84c9292-caff-490b-b65e-c116a3a29175"
      },
      "execution_count": 21,
      "outputs": [
        {
          "output_type": "execute_result",
          "data": {
            "text/plain": [
              "(680, 680)"
            ]
          },
          "metadata": {},
          "execution_count": 21
        }
      ]
    },
    {
      "cell_type": "code",
      "source": [
        "y.count(0)"
      ],
      "metadata": {
        "colab": {
          "base_uri": "https://localhost:8080/"
        },
        "id": "x_tHDto_Pmyh",
        "outputId": "88f27c23-77e4-48a8-e95c-b3b0bbce5e48"
      },
      "execution_count": 22,
      "outputs": [
        {
          "output_type": "execute_result",
          "data": {
            "text/plain": [
              "340"
            ]
          },
          "metadata": {},
          "execution_count": 22
        }
      ]
    },
    {
      "cell_type": "code",
      "source": [
        "x=(np.array(x).astype(int))/255\n",
        "y=(np.array(y))"
      ],
      "metadata": {
        "id": "IHY5wX0bQvYu"
      },
      "execution_count": 23,
      "outputs": []
    },
    {
      "cell_type": "code",
      "source": [
        "x.shape"
      ],
      "metadata": {
        "colab": {
          "base_uri": "https://localhost:8080/"
        },
        "id": "DZWTcx8QRcSb",
        "outputId": "bf01d6d2-1675-4e14-b840-e8303c67bff9"
      },
      "execution_count": 24,
      "outputs": [
        {
          "output_type": "execute_result",
          "data": {
            "text/plain": [
              "(680, 64, 64, 3)"
            ]
          },
          "metadata": {},
          "execution_count": 24
        }
      ]
    },
    {
      "cell_type": "code",
      "source": [
        "x"
      ],
      "metadata": {
        "colab": {
          "base_uri": "https://localhost:8080/"
        },
        "id": "APWJXMybRdbJ",
        "outputId": "2cc87ce0-7b4e-4fd0-8841-2d367150f13a"
      },
      "execution_count": 25,
      "outputs": [
        {
          "output_type": "execute_result",
          "data": {
            "text/plain": [
              "array([[[[0.55294118, 0.4745098 , 0.34509804],\n",
              "         [0.54901961, 0.46666667, 0.32941176],\n",
              "         [0.58431373, 0.50980392, 0.37647059],\n",
              "         ...,\n",
              "         [0.70196078, 0.50980392, 0.23137255],\n",
              "         [0.69019608, 0.50196078, 0.21568627],\n",
              "         [0.65882353, 0.4745098 , 0.21176471]],\n",
              "\n",
              "        [[0.5254902 , 0.44313725, 0.30196078],\n",
              "         [0.5254902 , 0.43529412, 0.28235294],\n",
              "         [0.54901961, 0.4627451 , 0.30980392],\n",
              "         ...,\n",
              "         [0.69803922, 0.50980392, 0.22745098],\n",
              "         [0.69803922, 0.50588235, 0.22352941],\n",
              "         [0.66666667, 0.48235294, 0.21568627]],\n",
              "\n",
              "        [[0.55294118, 0.47058824, 0.34117647],\n",
              "         [0.56078431, 0.47843137, 0.3372549 ],\n",
              "         [0.58039216, 0.49803922, 0.35294118],\n",
              "         ...,\n",
              "         [0.69019608, 0.50196078, 0.21568627],\n",
              "         [0.69019608, 0.50196078, 0.21960784],\n",
              "         [0.67058824, 0.48235294, 0.21176471]],\n",
              "\n",
              "        ...,\n",
              "\n",
              "        [[0.67058824, 0.61568627, 0.50980392],\n",
              "         [0.67058824, 0.61568627, 0.50980392],\n",
              "         [0.66666667, 0.61176471, 0.50588235],\n",
              "         ...,\n",
              "         [0.9254902 , 0.9254902 , 0.92941176],\n",
              "         [0.89803922, 0.89019608, 0.87058824],\n",
              "         [0.89411765, 0.87843137, 0.85490196]],\n",
              "\n",
              "        [[0.66666667, 0.61176471, 0.49803922],\n",
              "         [0.68627451, 0.62745098, 0.51764706],\n",
              "         [0.67058824, 0.61176471, 0.50196078],\n",
              "         ...,\n",
              "         [0.92941176, 0.92941176, 0.92941176],\n",
              "         [0.90588235, 0.90196078, 0.89019608],\n",
              "         [0.90196078, 0.89411765, 0.87843137]],\n",
              "\n",
              "        [[0.58431373, 0.52941176, 0.41568627],\n",
              "         [0.61176471, 0.55294118, 0.43529412],\n",
              "         [0.58431373, 0.52156863, 0.39607843],\n",
              "         ...,\n",
              "         [0.94901961, 0.94901961, 0.94901961],\n",
              "         [0.92941176, 0.92941176, 0.9254902 ],\n",
              "         [0.91372549, 0.90980392, 0.89411765]]],\n",
              "\n",
              "\n",
              "       [[[0.61176471, 0.42352941, 0.30980392],\n",
              "         [0.56078431, 0.35686275, 0.23137255],\n",
              "         [0.57254902, 0.36470588, 0.23529412],\n",
              "         ...,\n",
              "         [0.70588235, 0.42352941, 0.2627451 ],\n",
              "         [0.70980392, 0.43137255, 0.25882353],\n",
              "         [0.7254902 , 0.43921569, 0.25882353]],\n",
              "\n",
              "        [[0.57647059, 0.40392157, 0.29411765],\n",
              "         [0.55294118, 0.37254902, 0.27058824],\n",
              "         [0.58039216, 0.39607843, 0.28627451],\n",
              "         ...,\n",
              "         [0.6745098 , 0.41568627, 0.25098039],\n",
              "         [0.69019608, 0.42745098, 0.25490196],\n",
              "         [0.70588235, 0.43137255, 0.25490196]],\n",
              "\n",
              "        [[0.54117647, 0.38039216, 0.28627451],\n",
              "         [0.57647059, 0.41568627, 0.33333333],\n",
              "         [0.59607843, 0.43921569, 0.34901961],\n",
              "         ...,\n",
              "         [0.6627451 , 0.41176471, 0.2627451 ],\n",
              "         [0.67058824, 0.41960784, 0.25882353],\n",
              "         [0.69019608, 0.43137255, 0.26666667]],\n",
              "\n",
              "        ...,\n",
              "\n",
              "        [[0.67058824, 0.65098039, 0.63921569],\n",
              "         [0.69019608, 0.6745098 , 0.66666667],\n",
              "         [0.73333333, 0.72941176, 0.72941176],\n",
              "         ...,\n",
              "         [0.84705882, 0.8627451 , 0.88235294],\n",
              "         [0.83529412, 0.84705882, 0.87058824],\n",
              "         [0.82352941, 0.83529412, 0.86666667]],\n",
              "\n",
              "        [[0.70196078, 0.65490196, 0.64705882],\n",
              "         [0.70196078, 0.66666667, 0.65882353],\n",
              "         [0.67843137, 0.64705882, 0.63529412],\n",
              "         ...,\n",
              "         [0.84705882, 0.85882353, 0.87843137],\n",
              "         [0.83529412, 0.84705882, 0.87058824],\n",
              "         [0.81960784, 0.83137255, 0.8627451 ]],\n",
              "\n",
              "        [[0.7254902 , 0.66666667, 0.64705882],\n",
              "         [0.74509804, 0.70588235, 0.69019608],\n",
              "         [0.66666667, 0.62352941, 0.60784314],\n",
              "         ...,\n",
              "         [0.83921569, 0.85098039, 0.87058824],\n",
              "         [0.83529412, 0.84705882, 0.87058824],\n",
              "         [0.81960784, 0.83137255, 0.85882353]]],\n",
              "\n",
              "\n",
              "       [[[0.6745098 , 0.7372549 , 0.7372549 ],\n",
              "         [0.72156863, 0.75294118, 0.74901961],\n",
              "         [0.80392157, 0.82745098, 0.82352941],\n",
              "         ...,\n",
              "         [0.91764706, 0.93333333, 0.9372549 ],\n",
              "         [0.90196078, 0.91764706, 0.92156863],\n",
              "         [0.9372549 , 0.94901961, 0.95294118]],\n",
              "\n",
              "        [[0.68627451, 0.74117647, 0.74117647],\n",
              "         [0.70588235, 0.75294118, 0.74117647],\n",
              "         [0.79607843, 0.82352941, 0.81960784],\n",
              "         ...,\n",
              "         [0.90588235, 0.92156863, 0.9254902 ],\n",
              "         [0.90196078, 0.91764706, 0.92156863],\n",
              "         [0.9372549 , 0.94901961, 0.95686275]],\n",
              "\n",
              "        [[0.70588235, 0.72941176, 0.71372549],\n",
              "         [0.71764706, 0.74117647, 0.72156863],\n",
              "         [0.78431373, 0.82352941, 0.81568627],\n",
              "         ...,\n",
              "         [0.90196078, 0.91764706, 0.92156863],\n",
              "         [0.90588235, 0.92156863, 0.9254902 ],\n",
              "         [0.9372549 , 0.94901961, 0.95686275]],\n",
              "\n",
              "        ...,\n",
              "\n",
              "        [[0.74509804, 0.74901961, 0.72941176],\n",
              "         [0.74509804, 0.74901961, 0.72941176],\n",
              "         [0.72941176, 0.73333333, 0.71372549],\n",
              "         ...,\n",
              "         [0.36470588, 0.37254902, 0.35294118],\n",
              "         [0.24313725, 0.25098039, 0.23137255],\n",
              "         [0.42352941, 0.43137255, 0.41176471]],\n",
              "\n",
              "        [[0.7372549 , 0.74117647, 0.72156863],\n",
              "         [0.7372549 , 0.74117647, 0.72156863],\n",
              "         [0.7372549 , 0.74117647, 0.72156863],\n",
              "         ...,\n",
              "         [0.46666667, 0.47058824, 0.45098039],\n",
              "         [0.37254902, 0.38431373, 0.36078431],\n",
              "         [0.23137255, 0.23921569, 0.21960784]],\n",
              "\n",
              "        [[0.7254902 , 0.72941176, 0.70980392],\n",
              "         [0.71764706, 0.72156863, 0.70196078],\n",
              "         [0.7254902 , 0.72941176, 0.70980392],\n",
              "         ...,\n",
              "         [0.45098039, 0.45490196, 0.43529412],\n",
              "         [0.44313725, 0.45098039, 0.43137255],\n",
              "         [0.38431373, 0.38823529, 0.37254902]]],\n",
              "\n",
              "\n",
              "       ...,\n",
              "\n",
              "\n",
              "       [[[0.08627451, 0.0627451 , 0.04313725],\n",
              "         [0.03921569, 0.04313725, 0.03529412],\n",
              "         [0.10588235, 0.06666667, 0.05098039],\n",
              "         ...,\n",
              "         [0.00392157, 0.00784314, 0.00392157],\n",
              "         [0.00392157, 0.00784314, 0.01176471],\n",
              "         [0.00392157, 0.01568627, 0.02352941]],\n",
              "\n",
              "        [[0.10196078, 0.0745098 , 0.05098039],\n",
              "         [0.03529412, 0.04313725, 0.03921569],\n",
              "         [0.23529412, 0.1372549 , 0.08235294],\n",
              "         ...,\n",
              "         [0.00392157, 0.00784314, 0.00392157],\n",
              "         [0.00392157, 0.00392157, 0.00784314],\n",
              "         [0.00392157, 0.00392157, 0.01176471]],\n",
              "\n",
              "        [[0.09019608, 0.07058824, 0.04705882],\n",
              "         [0.05098039, 0.05882353, 0.04705882],\n",
              "         [0.29803922, 0.18039216, 0.10980392],\n",
              "         ...,\n",
              "         [0.        , 0.00392157, 0.00392157],\n",
              "         [0.00392157, 0.00392157, 0.00392157],\n",
              "         [0.00392157, 0.00784314, 0.01568627]],\n",
              "\n",
              "        ...,\n",
              "\n",
              "        [[0.02745098, 0.07843137, 0.10588235],\n",
              "         [0.03921569, 0.09019608, 0.10980392],\n",
              "         [0.05098039, 0.09019608, 0.1254902 ],\n",
              "         ...,\n",
              "         [0.01960784, 0.05098039, 0.04313725],\n",
              "         [0.00784314, 0.01960784, 0.03529412],\n",
              "         [0.02745098, 0.04705882, 0.04313725]],\n",
              "\n",
              "        [[0.01960784, 0.07058824, 0.10196078],\n",
              "         [0.02352941, 0.0745098 , 0.10588235],\n",
              "         [0.03137255, 0.08235294, 0.11372549],\n",
              "         ...,\n",
              "         [0.04705882, 0.06666667, 0.05882353],\n",
              "         [0.00784314, 0.01568627, 0.03529412],\n",
              "         [0.10980392, 0.13333333, 0.08627451]],\n",
              "\n",
              "        [[0.01960784, 0.0627451 , 0.09019608],\n",
              "         [0.01568627, 0.0627451 , 0.09411765],\n",
              "         [0.01568627, 0.06666667, 0.09803922],\n",
              "         ...,\n",
              "         [0.04313725, 0.05490196, 0.05490196],\n",
              "         [0.03529412, 0.03529412, 0.03921569],\n",
              "         [0.03921569, 0.04705882, 0.04313725]]],\n",
              "\n",
              "\n",
              "       [[[0.81960784, 0.81960784, 0.81960784],\n",
              "         [0.82352941, 0.82352941, 0.82352941],\n",
              "         [0.82745098, 0.82745098, 0.82745098],\n",
              "         ...,\n",
              "         [0.77254902, 0.77254902, 0.77254902],\n",
              "         [0.76470588, 0.76470588, 0.76470588],\n",
              "         [0.76078431, 0.76078431, 0.76078431]],\n",
              "\n",
              "        [[0.82352941, 0.82352941, 0.82352941],\n",
              "         [0.82352941, 0.82352941, 0.82352941],\n",
              "         [0.82745098, 0.82745098, 0.82745098],\n",
              "         ...,\n",
              "         [0.77254902, 0.77254902, 0.77254902],\n",
              "         [0.76862745, 0.76862745, 0.76862745],\n",
              "         [0.76862745, 0.76862745, 0.76862745]],\n",
              "\n",
              "        [[0.82745098, 0.82745098, 0.82745098],\n",
              "         [0.82745098, 0.82745098, 0.82745098],\n",
              "         [0.82745098, 0.82745098, 0.82745098],\n",
              "         ...,\n",
              "         [0.77254902, 0.77254902, 0.77254902],\n",
              "         [0.76862745, 0.76862745, 0.76862745],\n",
              "         [0.76862745, 0.76862745, 0.76862745]],\n",
              "\n",
              "        ...,\n",
              "\n",
              "        [[0.79215686, 0.79607843, 0.80392157],\n",
              "         [0.79607843, 0.8       , 0.80784314],\n",
              "         [0.79607843, 0.80392157, 0.8       ],\n",
              "         ...,\n",
              "         [0.75294118, 0.75294118, 0.75294118],\n",
              "         [0.74901961, 0.74901961, 0.74901961],\n",
              "         [0.74901961, 0.74901961, 0.74901961]],\n",
              "\n",
              "        [[0.78431373, 0.78823529, 0.79607843],\n",
              "         [0.78823529, 0.79215686, 0.8       ],\n",
              "         [0.78823529, 0.79607843, 0.79607843],\n",
              "         ...,\n",
              "         [0.74509804, 0.74509804, 0.74509804],\n",
              "         [0.74509804, 0.74509804, 0.74509804],\n",
              "         [0.74509804, 0.74509804, 0.74509804]],\n",
              "\n",
              "        [[0.78039216, 0.78431373, 0.79215686],\n",
              "         [0.78039216, 0.78431373, 0.79215686],\n",
              "         [0.78431373, 0.79215686, 0.79215686],\n",
              "         ...,\n",
              "         [0.74117647, 0.74117647, 0.74117647],\n",
              "         [0.74117647, 0.74117647, 0.74117647],\n",
              "         [0.74117647, 0.74117647, 0.74117647]]],\n",
              "\n",
              "\n",
              "       [[[0.78823529, 0.65882353, 0.27843137],\n",
              "         [0.8       , 0.67843137, 0.20784314],\n",
              "         [0.81960784, 0.70196078, 0.16862745],\n",
              "         ...,\n",
              "         [0.79607843, 0.65098039, 0.68627451],\n",
              "         [0.77647059, 0.72941176, 0.71764706],\n",
              "         [0.63137255, 0.61568627, 0.44313725]],\n",
              "\n",
              "        [[0.76078431, 0.63137255, 0.23921569],\n",
              "         [0.78823529, 0.6745098 , 0.17647059],\n",
              "         [0.81176471, 0.69411765, 0.18039216],\n",
              "         ...,\n",
              "         [0.81176471, 0.68627451, 0.71372549],\n",
              "         [0.79607843, 0.76470588, 0.76078431],\n",
              "         [0.74901961, 0.70980392, 0.68627451]],\n",
              "\n",
              "        [[0.8       , 0.6627451 , 0.28235294],\n",
              "         [0.80392157, 0.68235294, 0.21960784],\n",
              "         [0.8627451 , 0.74117647, 0.2627451 ],\n",
              "         ...,\n",
              "         [0.81176471, 0.71372549, 0.70588235],\n",
              "         [0.76078431, 0.73333333, 0.6745098 ],\n",
              "         [0.79215686, 0.75686275, 0.75686275]],\n",
              "\n",
              "        ...,\n",
              "\n",
              "        [[0.55686275, 0.46666667, 0.48627451],\n",
              "         [0.65490196, 0.56470588, 0.60392157],\n",
              "         [0.65098039, 0.56862745, 0.6       ],\n",
              "         ...,\n",
              "         [0.78431373, 0.74901961, 0.76862745],\n",
              "         [0.75686275, 0.72156863, 0.74117647],\n",
              "         [0.7254902 , 0.69019608, 0.70588235]],\n",
              "\n",
              "        [[0.45490196, 0.38039216, 0.35294118],\n",
              "         [0.5254902 , 0.43921569, 0.44705882],\n",
              "         [0.65490196, 0.56862745, 0.60784314],\n",
              "         ...,\n",
              "         [0.76470588, 0.72941176, 0.74901961],\n",
              "         [0.74117647, 0.70588235, 0.7254902 ],\n",
              "         [0.71372549, 0.67843137, 0.69411765]],\n",
              "\n",
              "        [[0.49411765, 0.44313725, 0.41176471],\n",
              "         [0.44313725, 0.36862745, 0.32941176],\n",
              "         [0.5372549 , 0.45098039, 0.45490196],\n",
              "         ...,\n",
              "         [0.74901961, 0.71372549, 0.73333333],\n",
              "         [0.72941176, 0.69411765, 0.71372549],\n",
              "         [0.69411765, 0.65882353, 0.67843137]]]])"
            ]
          },
          "metadata": {},
          "execution_count": 25
        }
      ]
    },
    {
      "cell_type": "code",
      "source": [
        "plt.imshow(x[186])"
      ],
      "metadata": {
        "colab": {
          "base_uri": "https://localhost:8080/",
          "height": 285
        },
        "id": "O4eQ2FU9Rew9",
        "outputId": "11605788-e58c-4b21-f5b4-49201b38e575"
      },
      "execution_count": 26,
      "outputs": [
        {
          "output_type": "execute_result",
          "data": {
            "text/plain": [
              "<matplotlib.image.AxesImage at 0x7f5cb11708b0>"
            ]
          },
          "metadata": {},
          "execution_count": 26
        },
        {
          "output_type": "display_data",
          "data": {
            "text/plain": [
              "<Figure size 432x288 with 1 Axes>"
            ],
            "image/png": "[encoded data removed]"
          },
          "metadata": {
            "needs_background": "light"
          }
        }
      ]
    },
    {
      "cell_type": "code",
      "source": [
        "from sklearn.model_selection import train_test_split"
      ],
      "metadata": {
        "id": "f0FqavfDR1n8"
      },
      "execution_count": 27,
      "outputs": []
    },
    {
      "cell_type": "code",
      "source": [
        "x_train,x_test,y_train,y_test = train_test_split(x,y,test_size = 0.20, random_state = 42)"
      ],
      "metadata": {
        "id": "aQwR-7epRtLw"
      },
      "execution_count": 28,
      "outputs": []
    },
    {
      "cell_type": "code",
      "source": [
        "model = tf.keras.Sequential([\n",
        "                             tf.keras.layers.Conv2D(32, (3,3), activation='relu',input_shape=(64,64,3)),\n",
        "                             tf.keras.layers.Conv2D(64, (3,3), activation='relu'),\n",
        "                             tf.keras.layers.Conv2D(128, (3,3), activation='relu'),\n",
        "                             tf.keras.layers.MaxPooling2D(2,2),\n",
        "                             tf.keras.layers.Dropout(0.25),\n",
        "                             tf.keras.layers.Flatten(),\n",
        "                             tf.keras.layers.Dense(100, activation='relu'),\n",
        "                             tf.keras.layers.Dense(50, activation='relu'),\n",
        "                             tf.keras.layers.Dense(20, activation='relu'),\n",
        "                             tf.keras.layers.Dropout(0.5),\n",
        "                             tf.keras.layers.Dense(10, activation='relu'),\n",
        "                             tf.keras.layers.Dense(1, activation='sigmoid'),])\n",
        "\n",
        "\n",
        "model.compile(loss = tf.keras.losses.BinaryCrossentropy(from_logits=True),optimizer=\"adam\",metrics=[\"accuracy\"])\n",
        "history=model.fit(x_train, y_train, batch_size=32, epochs=15, verbose=1, validation_data=(x_test,y_test))"
      ],
      "metadata": {
        "colab": {
          "base_uri": "https://localhost:8080/"
        },
        "id": "ezUHfWAlRx46",
        "outputId": "3147a4f6-c821-41bd-a288-fccaeead83fb"
      },
      "execution_count": 31,
      "outputs": [
        {
          "output_type": "stream",
          "name": "stdout",
          "text": [
            "Epoch 1/15\n"
          ]
        },
        {
          "output_type": "stream",
          "name": "stderr",
          "text": [
            "/usr/local/lib/python3.8/dist-packages/tensorflow/python/util/dispatch.py:1082: UserWarning: \"`binary_crossentropy` received `from_logits=True`, but the `output` argument was produced by a sigmoid or softmax activation and thus does not represent logits. Was this intended?\"\n",
            "  return dispatch_target(*args, **kwargs)\n"
          ]
        },
        {
          "output_type": "stream",
          "name": "stdout",
          "text": [
            "17/17 [==============================] - 39s 2s/step - loss: 0.7044 - accuracy: 0.5074 - val_loss: 0.6867 - val_accuracy: 0.6176\n",
            "Epoch 2/15\n",
            "17/17 [==============================] - 28s 2s/step - loss: 0.6940 - accuracy: 0.5147 - val_loss: 0.6945 - val_accuracy: 0.3824\n",
            "Epoch 3/15\n",
            "17/17 [==============================] - 30s 2s/step - loss: 0.6925 - accuracy: 0.5294 - val_loss: 0.6979 - val_accuracy: 0.3824\n",
            "Epoch 4/15\n",
            "17/17 [==============================] - 28s 2s/step - loss: 0.6923 - accuracy: 0.5257 - val_loss: 0.6943 - val_accuracy: 0.3824\n",
            "Epoch 5/15\n",
            "17/17 [==============================] - 28s 2s/step - loss: 0.6922 - accuracy: 0.5221 - val_loss: 0.7018 - val_accuracy: 0.3824\n",
            "Epoch 6/15\n",
            "17/17 [==============================] - 28s 2s/step - loss: 0.6893 - accuracy: 0.5312 - val_loss: 0.6910 - val_accuracy: 0.4044\n",
            "Epoch 7/15\n",
            "17/17 [==============================] - 28s 2s/step - loss: 0.6810 - accuracy: 0.5735 - val_loss: 0.7289 - val_accuracy: 0.5221\n",
            "Epoch 8/15\n",
            "17/17 [==============================] - 29s 2s/step - loss: 0.6976 - accuracy: 0.5717 - val_loss: 0.6789 - val_accuracy: 0.6103\n",
            "Epoch 9/15\n",
            "17/17 [==============================] - 28s 2s/step - loss: 0.6827 - accuracy: 0.5607 - val_loss: 0.7213 - val_accuracy: 0.3824\n",
            "Epoch 10/15\n",
            "17/17 [==============================] - 28s 2s/step - loss: 0.6748 - accuracy: 0.5607 - val_loss: 0.6800 - val_accuracy: 0.4779\n",
            "Epoch 11/15\n",
            "17/17 [==============================] - 28s 2s/step - loss: 0.6437 - accuracy: 0.6324 - val_loss: 0.6883 - val_accuracy: 0.4779\n",
            "Epoch 12/15\n",
            "17/17 [==============================] - 28s 2s/step - loss: 0.6208 - accuracy: 0.6342 - val_loss: 0.7231 - val_accuracy: 0.4485\n",
            "Epoch 13/15\n",
            "17/17 [==============================] - 28s 2s/step - loss: 0.5684 - accuracy: 0.7077 - val_loss: 0.7119 - val_accuracy: 0.5368\n",
            "Epoch 14/15\n",
            "17/17 [==============================] - 28s 2s/step - loss: 0.5179 - accuracy: 0.7390 - val_loss: 0.6933 - val_accuracy: 0.5735\n",
            "Epoch 15/15\n",
            "17/17 [==============================] - 28s 2s/step - loss: 0.4778 - accuracy: 0.7794 - val_loss: 0.8505 - val_accuracy: 0.5074\n"
          ]
        }
      ]
    },
    {
      "cell_type": "code",
      "source": [
        "_, accuracy=model.evaluate(x_test, y_test)\n",
        "print('Accuracy: %.2f' % (accuracy*100))"
      ],
      "metadata": {
        "colab": {
          "base_uri": "https://localhost:8080/"
        },
        "id": "PCpCDTpoSa6p",
        "outputId": "d74d4bec-2386-445e-c904-70b5d68af80f"
      },
      "execution_count": 32,
      "outputs": [
        {
          "output_type": "stream",
          "name": "stdout",
          "text": [
            "5/5 [==============================] - 2s 334ms/step - loss: 0.8505 - accuracy: 0.5074\n",
            "Accuracy: 50.74\n"
          ]
        }
      ]
    },
    {
      "cell_type": "code",
      "source": [
        "import matplotlib.pyplot as plt\n",
        "plt.plot(history.history['accuracy'])\n",
        "plt.plot(history.history['val_accuracy'])\n",
        "plt.title('Model accuracy')\n",
        "plt.ylabel('Accuracy')\n",
        "plt.xlabel('Epoch')\n",
        "plt.legend(['Train','Test'], loc='upper left')\n",
        "plt.show()\n",
        "\n",
        "plt.plot(history.history['loss'])\n",
        "plt.plot(history.history['val_loss'])\n",
        "plt.title('Model loss')\n",
        "plt.ylabel('Loss')\n",
        "plt.xlabel('Epoch')\n",
        "plt.legend(['Train','Test'], loc='upper left')\n",
        "plt.show()"
      ],
      "metadata": {
        "colab": {
          "base_uri": "https://localhost:8080/",
          "height": 573
        },
        "id": "biTCEGOfSj24",
        "outputId": "cf5aa9fd-7be2-477d-b667-54c3c003d075"
      },
      "execution_count": 33,
      "outputs": [
        {
          "output_type": "display_data",
          "data": {
            "text/plain": [
              "<Figure size 432x288 with 1 Axes>"
            ],
            "image/png": "[encoded data removed]"
          },
          "metadata": {
            "needs_background": "light"
          }
        },
        {
          "output_type": "display_data",
          "data": {
            "text/plain": [
              "<Figure size 432x288 with 1 Axes>"
            ],
            "image/png": "[encoded data removed]"
          },
          "metadata": {
            "needs_background": "light"
          }
        }
      ]
    }
  ]
}